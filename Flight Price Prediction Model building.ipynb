{
 "cells": [
  {
   "cell_type": "markdown",
   "id": "c416f625",
   "metadata": {},
   "source": [
    "# Loading the libraries"
   ]
  },
  {
   "cell_type": "code",
   "execution_count": 1,
   "id": "ddf8424c",
   "metadata": {},
   "outputs": [
    {
     "name": "stderr",
     "output_type": "stream",
     "text": [
      "/opt/homebrew/Caskroom/miniforge/base/lib/python3.9/site-packages/xgboost/compat.py:36: FutureWarning: pandas.Int64Index is deprecated and will be removed from pandas in a future version. Use pandas.Index with the appropriate dtype instead.\n",
      "  from pandas import MultiIndex, Int64Index\n"
     ]
    }
   ],
   "source": [
    "import pandas as pd\n",
    "import seaborn as sns\n",
    "import numpy as np\n",
    "import matplotlib as mlt\n",
    "from matplotlib import pyplot as plt\n",
    "from sklearn.metrics import r2_score,mean_absolute_error,mean_squared_error,accuracy_score\n",
    "from sklearn.ensemble import RandomForestRegressor\n",
    "from sklearn.tree import DecisionTreeRegressor\n",
    "from sklearn.linear_model import LinearRegression\n",
    "from sklearn.neighbors import KNeighborsRegressor\n",
    "from xgboost import XGBRegressor\n",
    "from sklearn.model_selection import cross_val_score\n",
    "from sklearn import preprocessing\n",
    "from sklearn.model_selection import RandomizedSearchCV"
   ]
  },
  {
   "cell_type": "markdown",
   "id": "51c6b3ad",
   "metadata": {},
   "source": [
    "### Loading the dataset"
   ]
  },
  {
   "cell_type": "code",
   "execution_count": 2,
   "id": "85bd6d08",
   "metadata": {},
   "outputs": [],
   "source": [
    "df = pd.read_csv('preprocessed_data.csv')"
   ]
  },
  {
   "cell_type": "code",
   "execution_count": 3,
   "id": "ed640d51",
   "metadata": {},
   "outputs": [
    {
     "data": {
      "text/plain": [
       "(10681, 14)"
      ]
     },
     "execution_count": 3,
     "metadata": {},
     "output_type": "execute_result"
    }
   ],
   "source": [
    "df.shape"
   ]
  },
  {
   "cell_type": "code",
   "execution_count": 4,
   "id": "edb40b53",
   "metadata": {},
   "outputs": [
    {
     "data": {
      "text/html": [
       "<div>\n",
       "<style scoped>\n",
       "    .dataframe tbody tr th:only-of-type {\n",
       "        vertical-align: middle;\n",
       "    }\n",
       "\n",
       "    .dataframe tbody tr th {\n",
       "        vertical-align: top;\n",
       "    }\n",
       "\n",
       "    .dataframe thead th {\n",
       "        text-align: right;\n",
       "    }\n",
       "</style>\n",
       "<table border=\"1\" class=\"dataframe\">\n",
       "  <thead>\n",
       "    <tr style=\"text-align: right;\">\n",
       "      <th></th>\n",
       "      <th>Airline</th>\n",
       "      <th>Source</th>\n",
       "      <th>Destination</th>\n",
       "      <th>Total_Stops</th>\n",
       "      <th>Price</th>\n",
       "      <th>J_Day</th>\n",
       "      <th>J_Month</th>\n",
       "      <th>J_Year</th>\n",
       "      <th>Arrival_min</th>\n",
       "      <th>Arrival_hour</th>\n",
       "      <th>Dep_min</th>\n",
       "      <th>Dep_hour</th>\n",
       "      <th>Duration_hours</th>\n",
       "      <th>Duration_mins</th>\n",
       "    </tr>\n",
       "  </thead>\n",
       "  <tbody>\n",
       "    <tr>\n",
       "      <th>0</th>\n",
       "      <td>3</td>\n",
       "      <td>0</td>\n",
       "      <td>5</td>\n",
       "      <td>0</td>\n",
       "      <td>3897</td>\n",
       "      <td>24</td>\n",
       "      <td>3</td>\n",
       "      <td>2019</td>\n",
       "      <td>10</td>\n",
       "      <td>1</td>\n",
       "      <td>20</td>\n",
       "      <td>22</td>\n",
       "      <td>2</td>\n",
       "      <td>50</td>\n",
       "    </tr>\n",
       "    <tr>\n",
       "      <th>1</th>\n",
       "      <td>1</td>\n",
       "      <td>3</td>\n",
       "      <td>0</td>\n",
       "      <td>2</td>\n",
       "      <td>7662</td>\n",
       "      <td>1</td>\n",
       "      <td>5</td>\n",
       "      <td>2019</td>\n",
       "      <td>15</td>\n",
       "      <td>13</td>\n",
       "      <td>50</td>\n",
       "      <td>5</td>\n",
       "      <td>7</td>\n",
       "      <td>25</td>\n",
       "    </tr>\n",
       "    <tr>\n",
       "      <th>2</th>\n",
       "      <td>4</td>\n",
       "      <td>2</td>\n",
       "      <td>1</td>\n",
       "      <td>2</td>\n",
       "      <td>13882</td>\n",
       "      <td>9</td>\n",
       "      <td>6</td>\n",
       "      <td>2019</td>\n",
       "      <td>25</td>\n",
       "      <td>4</td>\n",
       "      <td>25</td>\n",
       "      <td>9</td>\n",
       "      <td>19</td>\n",
       "      <td>0</td>\n",
       "    </tr>\n",
       "    <tr>\n",
       "      <th>3</th>\n",
       "      <td>3</td>\n",
       "      <td>3</td>\n",
       "      <td>0</td>\n",
       "      <td>1</td>\n",
       "      <td>6218</td>\n",
       "      <td>12</td>\n",
       "      <td>5</td>\n",
       "      <td>2019</td>\n",
       "      <td>30</td>\n",
       "      <td>23</td>\n",
       "      <td>5</td>\n",
       "      <td>18</td>\n",
       "      <td>5</td>\n",
       "      <td>25</td>\n",
       "    </tr>\n",
       "    <tr>\n",
       "      <th>4</th>\n",
       "      <td>3</td>\n",
       "      <td>0</td>\n",
       "      <td>5</td>\n",
       "      <td>1</td>\n",
       "      <td>13302</td>\n",
       "      <td>1</td>\n",
       "      <td>3</td>\n",
       "      <td>2019</td>\n",
       "      <td>35</td>\n",
       "      <td>21</td>\n",
       "      <td>50</td>\n",
       "      <td>16</td>\n",
       "      <td>4</td>\n",
       "      <td>45</td>\n",
       "    </tr>\n",
       "  </tbody>\n",
       "</table>\n",
       "</div>"
      ],
      "text/plain": [
       "   Airline  Source  Destination  Total_Stops  Price  J_Day  J_Month  J_Year  \\\n",
       "0        3       0            5            0   3897     24        3    2019   \n",
       "1        1       3            0            2   7662      1        5    2019   \n",
       "2        4       2            1            2  13882      9        6    2019   \n",
       "3        3       3            0            1   6218     12        5    2019   \n",
       "4        3       0            5            1  13302      1        3    2019   \n",
       "\n",
       "   Arrival_min  Arrival_hour  Dep_min  Dep_hour  Duration_hours  Duration_mins  \n",
       "0           10             1       20        22               2             50  \n",
       "1           15            13       50         5               7             25  \n",
       "2           25             4       25         9              19              0  \n",
       "3           30            23        5        18               5             25  \n",
       "4           35            21       50        16               4             45  "
      ]
     },
     "execution_count": 4,
     "metadata": {},
     "output_type": "execute_result"
    }
   ],
   "source": [
    "df.head()"
   ]
  },
  {
   "cell_type": "markdown",
   "id": "5c6ac8b6",
   "metadata": {},
   "source": [
    "### Splitting the dataset"
   ]
  },
  {
   "cell_type": "code",
   "execution_count": 5,
   "id": "5f75fd8b",
   "metadata": {},
   "outputs": [],
   "source": [
    "X = df.drop(['Price'],axis = 1)\n",
    "y = df.iloc[:,4]"
   ]
  },
  {
   "cell_type": "code",
   "execution_count": 6,
   "id": "9c373591",
   "metadata": {},
   "outputs": [
    {
     "name": "stdout",
     "output_type": "stream",
     "text": [
      "X Shape :  (10681, 13)\n",
      "y shape :  (10681,)\n"
     ]
    }
   ],
   "source": [
    "print('X Shape : ', X.shape)\n",
    "print('y shape : ', y.shape)"
   ]
  },
  {
   "cell_type": "code",
   "execution_count": 7,
   "id": "7ebe5ab0",
   "metadata": {},
   "outputs": [],
   "source": [
    "#Train test split\n",
    "from sklearn.model_selection import train_test_split\n",
    "X_train,X_test,y_train,y_test=train_test_split(X,y,test_size=0.2,random_state=1)\n"
   ]
  },
  {
   "cell_type": "code",
   "execution_count": 8,
   "id": "7df37a69",
   "metadata": {},
   "outputs": [
    {
     "data": {
      "text/html": [
       "<div>\n",
       "<style scoped>\n",
       "    .dataframe tbody tr th:only-of-type {\n",
       "        vertical-align: middle;\n",
       "    }\n",
       "\n",
       "    .dataframe tbody tr th {\n",
       "        vertical-align: top;\n",
       "    }\n",
       "\n",
       "    .dataframe thead th {\n",
       "        text-align: right;\n",
       "    }\n",
       "</style>\n",
       "<table border=\"1\" class=\"dataframe\">\n",
       "  <thead>\n",
       "    <tr style=\"text-align: right;\">\n",
       "      <th></th>\n",
       "      <th>Airline</th>\n",
       "      <th>Source</th>\n",
       "      <th>Destination</th>\n",
       "      <th>Total_Stops</th>\n",
       "      <th>J_Day</th>\n",
       "      <th>J_Month</th>\n",
       "      <th>J_Year</th>\n",
       "      <th>Arrival_min</th>\n",
       "      <th>Arrival_hour</th>\n",
       "      <th>Dep_min</th>\n",
       "      <th>Dep_hour</th>\n",
       "      <th>Duration_hours</th>\n",
       "      <th>Duration_mins</th>\n",
       "    </tr>\n",
       "  </thead>\n",
       "  <tbody>\n",
       "    <tr>\n",
       "      <th>9088</th>\n",
       "      <td>6</td>\n",
       "      <td>2</td>\n",
       "      <td>1</td>\n",
       "      <td>1</td>\n",
       "      <td>9</td>\n",
       "      <td>5</td>\n",
       "      <td>2019</td>\n",
       "      <td>15</td>\n",
       "      <td>19</td>\n",
       "      <td>40</td>\n",
       "      <td>11</td>\n",
       "      <td>7</td>\n",
       "      <td>35</td>\n",
       "    </tr>\n",
       "    <tr>\n",
       "      <th>5399</th>\n",
       "      <td>3</td>\n",
       "      <td>1</td>\n",
       "      <td>4</td>\n",
       "      <td>0</td>\n",
       "      <td>21</td>\n",
       "      <td>3</td>\n",
       "      <td>2019</td>\n",
       "      <td>0</td>\n",
       "      <td>14</td>\n",
       "      <td>35</td>\n",
       "      <td>11</td>\n",
       "      <td>2</td>\n",
       "      <td>25</td>\n",
       "    </tr>\n",
       "    <tr>\n",
       "      <th>9277</th>\n",
       "      <td>4</td>\n",
       "      <td>3</td>\n",
       "      <td>0</td>\n",
       "      <td>1</td>\n",
       "      <td>9</td>\n",
       "      <td>5</td>\n",
       "      <td>2019</td>\n",
       "      <td>35</td>\n",
       "      <td>23</td>\n",
       "      <td>30</td>\n",
       "      <td>16</td>\n",
       "      <td>7</td>\n",
       "      <td>5</td>\n",
       "    </tr>\n",
       "    <tr>\n",
       "      <th>1595</th>\n",
       "      <td>1</td>\n",
       "      <td>2</td>\n",
       "      <td>1</td>\n",
       "      <td>1</td>\n",
       "      <td>18</td>\n",
       "      <td>5</td>\n",
       "      <td>2019</td>\n",
       "      <td>25</td>\n",
       "      <td>9</td>\n",
       "      <td>40</td>\n",
       "      <td>20</td>\n",
       "      <td>12</td>\n",
       "      <td>45</td>\n",
       "    </tr>\n",
       "    <tr>\n",
       "      <th>8172</th>\n",
       "      <td>1</td>\n",
       "      <td>3</td>\n",
       "      <td>0</td>\n",
       "      <td>1</td>\n",
       "      <td>24</td>\n",
       "      <td>5</td>\n",
       "      <td>2019</td>\n",
       "      <td>25</td>\n",
       "      <td>20</td>\n",
       "      <td>30</td>\n",
       "      <td>17</td>\n",
       "      <td>26</td>\n",
       "      <td>55</td>\n",
       "    </tr>\n",
       "  </tbody>\n",
       "</table>\n",
       "</div>"
      ],
      "text/plain": [
       "      Airline  Source  Destination  Total_Stops  J_Day  J_Month  J_Year  \\\n",
       "9088        6       2            1            1      9        5    2019   \n",
       "5399        3       1            4            0     21        3    2019   \n",
       "9277        4       3            0            1      9        5    2019   \n",
       "1595        1       2            1            1     18        5    2019   \n",
       "8172        1       3            0            1     24        5    2019   \n",
       "\n",
       "      Arrival_min  Arrival_hour  Dep_min  Dep_hour  Duration_hours  \\\n",
       "9088           15            19       40        11               7   \n",
       "5399            0            14       35        11               2   \n",
       "9277           35            23       30        16               7   \n",
       "1595           25             9       40        20              12   \n",
       "8172           25            20       30        17              26   \n",
       "\n",
       "      Duration_mins  \n",
       "9088             35  \n",
       "5399             25  \n",
       "9277              5  \n",
       "1595             45  \n",
       "8172             55  "
      ]
     },
     "execution_count": 8,
     "metadata": {},
     "output_type": "execute_result"
    }
   ],
   "source": [
    "X_train.head()"
   ]
  },
  {
   "cell_type": "code",
   "execution_count": 9,
   "id": "69a9b780",
   "metadata": {},
   "outputs": [
    {
     "data": {
      "text/plain": [
       "9088     8266\n",
       "5399     3858\n",
       "9277    14781\n",
       "1595     7480\n",
       "8172    10623\n",
       "Name: Price, dtype: int64"
      ]
     },
     "execution_count": 9,
     "metadata": {},
     "output_type": "execute_result"
    }
   ],
   "source": [
    "y_train.head()"
   ]
  },
  {
   "cell_type": "markdown",
   "id": "5a2e6bf1",
   "metadata": {},
   "source": [
    "# Model Building"
   ]
  },
  {
   "cell_type": "markdown",
   "id": "1ef37147",
   "metadata": {},
   "source": [
    "## Random Forest Regressor"
   ]
  },
  {
   "cell_type": "code",
   "execution_count": 10,
   "id": "38a41d29",
   "metadata": {},
   "outputs": [
    {
     "name": "stdout",
     "output_type": "stream",
     "text": [
      "Random Forest Score on Training data is 0.9537327573381824\n",
      "Random Forest Score on Test data is 0.785871880245794\n",
      "[0.75898126 0.7728786  0.81155079 0.81513741 0.75949926]\n",
      "Accuracy: 78.36 %\n",
      "Standard Deviation: 2.48 %\n",
      "Mean Absolute Error: 1226.5586044017207\n",
      "Mean Squared Error: 4578815.211535587\n",
      "RMSE(Root Mean Squared Error): 2139.8166303530747\n",
      "The r2_score is : 0.785871880245794\n"
     ]
    },
    {
     "data": {
      "image/png": "[encoded data removed]",
      "text/plain": [
       "<Figure size 360x360 with 1 Axes>"
      ]
     },
     "metadata": {
      "needs_background": "light"
     },
     "output_type": "display_data"
    },
    {
     "data": {
      "image/png": "[encoded data removed]",
      "text/plain": [
       "<Figure size 432x288 with 1 Axes>"
      ]
     },
     "metadata": {
      "needs_background": "light"
     },
     "output_type": "display_data"
    }
   ],
   "source": [
    "model = RandomForestRegressor()\n",
    "model.fit(X_train, y_train)\n",
    "y_pred=model.predict(X_test)\n",
    "\n",
    "print(\"Random Forest Score on Training data is\",model.score(X_train, y_train))#Training Accuracy\n",
    "print(\"Random Forest Score on Test data is\",model.score(X_test, y_test))#Testing Accuracy\n",
    "\n",
    "accuracies = cross_val_score(model, X_train, y_train)\n",
    "print(accuracies)\n",
    "print(\"Accuracy: {:.2f} %\".format(accuracies.mean()*100))\n",
    "print(\"Standard Deviation: {:.2f} %\".format(accuracies.std()*100))\n",
    "\n",
    "print(\"Mean Absolute Error:\" , mean_absolute_error(y_pred, y_test))\n",
    "\n",
    "print(\"Mean Squared Error:\" , mean_squared_error(y_pred, y_test))\n",
    "\n",
    "print('RMSE(Root Mean Squared Error):', np.sqrt(mean_squared_error(y_test, y_pred)))\n",
    "\n",
    "print('The r2_score is :',r2_score(y_test, y_pred))\n",
    "\n",
    "#sns.set(rc = {'figure.figsize':(10,7)})\n",
    "#mlt.rcParams['figure.figsize'] = (10,7)\n",
    "sns.displot(y_test-y_pred, kde = True, color = 'orange');\n",
    "plt.show()\n",
    "plt.scatter(y_test, y_pred, alpha = 0.5 , color = 'orange')\n",
    "plt.xlabel(\"y_test\");\n",
    "plt.ylabel(\"y_pred\");"
   ]
  },
  {
   "cell_type": "markdown",
   "id": "d00445ec",
   "metadata": {},
   "source": [
    "## Decision Tree Regressor"
   ]
  },
  {
   "cell_type": "code",
   "execution_count": 11,
   "id": "2902fefa",
   "metadata": {},
   "outputs": [
    {
     "name": "stdout",
     "output_type": "stream",
     "text": [
      "Decision Tree Regressor Score on Training data is 0.9712434529872721\n",
      "Decision Tree Regressor Score on Test data is 0.6997487751261683\n",
      "[0.65043174 0.67424433 0.63458241 0.69046319 0.65653277]\n",
      "Accuracy: 66.13 %\n",
      "Standard Deviation: 1.94 %\n",
      "Mean Absolute Error: 1426.5572531586333\n",
      "Mean Squared Error: 6420431.269431575\n",
      "RMSE(Root Mean Squared Error): 2533.8569946687157\n",
      "The r2_score is : 0.6997487751261683\n"
     ]
    },
    {
     "data": {
      "image/png": "[encoded data removed]",
      "text/plain": [
       "<Figure size 360x360 with 1 Axes>"
      ]
     },
     "metadata": {
      "needs_background": "light"
     },
     "output_type": "display_data"
    },
    {
     "data": {
      "image/png": "[encoded data removed]",
      "text/plain": [
       "<Figure size 720x504 with 1 Axes>"
      ]
     },
     "metadata": {
      "needs_background": "light"
     },
     "output_type": "display_data"
    }
   ],
   "source": [
    "model = DecisionTreeRegressor()\n",
    "model.fit(X_train, y_train)\n",
    "y_pred=model.predict(X_test)\n",
    "\n",
    "print(\"Decision Tree Regressor Score on Training data is\",model.score(X_train, y_train))#Training Accuracy\n",
    "print(\"Decision Tree Regressor Score on Test data is\",model.score(X_test, y_test))#Testing Accuracy\n",
    "\n",
    "accuracies = cross_val_score(model, X_train, y_train)\n",
    "print(accuracies)\n",
    "print(\"Accuracy: {:.2f} %\".format(accuracies.mean()*100))\n",
    "print(\"Standard Deviation: {:.2f} %\".format(accuracies.std()*100))\n",
    "\n",
    "print(\"Mean Absolute Error:\" , mean_absolute_error(y_pred, y_test))\n",
    "\n",
    "print(\"Mean Squared Error:\" , mean_squared_error(y_pred, y_test))\n",
    "\n",
    "print('RMSE(Root Mean Squared Error):', np.sqrt(mean_squared_error(y_test, y_pred)))\n",
    "\n",
    "print('The r2_score is :',r2_score(y_test, y_pred))\n",
    "\n",
    "#sns.set(rc = {'figure.figsize':(10,7)})\n",
    "mlt.rcParams['figure.figsize'] = (10,7)\n",
    "sns.displot(y_test-y_pred, kde = True, color = 'orange');\n",
    "plt.show()\n",
    "plt.scatter(y_test, y_pred, alpha = 0.5 , color = 'orange')\n",
    "plt.xlabel(\"y_test\");\n",
    "plt.ylabel(\"y_pred\");"
   ]
  },
  {
   "cell_type": "markdown",
   "id": "0eace9f8",
   "metadata": {},
   "source": [
    "## K Nearest Neighbours"
   ]
  },
  {
   "cell_type": "code",
   "execution_count": 12,
   "id": "8da13b2a",
   "metadata": {},
   "outputs": [
    {
     "name": "stdout",
     "output_type": "stream",
     "text": [
      "K Nearest Neighbours Score on Training data is 0.7579213499006054\n",
      "K Nearest Neighbours Score on Test data is 0.5811738669455815\n",
      "[0.63147848 0.55199851 0.55088132 0.59685234 0.55157296]\n",
      "Accuracy: 57.66 %\n",
      "Standard Deviation: 3.26 %\n",
      "Mean Absolute Error: 1788.328310715957\n",
      "Mean Squared Error: 8955981.452690689\n",
      "RMSE(Root Mean Squared Error): 2992.654582923109\n",
      "The r2_score is : 0.5811738669455815\n"
     ]
    },
    {
     "data": {
      "image/png": "[encoded data removed]",
      "text/plain": [
       "<Figure size 360x360 with 1 Axes>"
      ]
     },
     "metadata": {
      "needs_background": "light"
     },
     "output_type": "display_data"
    },
    {
     "data": {
      "image/png": "[encoded data removed]",
      "text/plain": [
       "<Figure size 720x504 with 1 Axes>"
      ]
     },
     "metadata": {
      "needs_background": "light"
     },
     "output_type": "display_data"
    }
   ],
   "source": [
    "model =KNeighborsRegressor()\n",
    "model.fit(X_train, y_train)\n",
    "y_pred=model.predict(X_test)\n",
    "\n",
    "print(\"K Nearest Neighbours Score on Training data is\",model.score(X_train, y_train))#Training Accuracy\n",
    "print(\"K Nearest Neighbours Score on Test data is\",model.score(X_test, y_test))#Testing Accuracy\n",
    "\n",
    "accuracies = cross_val_score(model, X_train, y_train)\n",
    "print(accuracies)\n",
    "print(\"Accuracy: {:.2f} %\".format(accuracies.mean()*100))\n",
    "print(\"Standard Deviation: {:.2f} %\".format(accuracies.std()*100))\n",
    "\n",
    "print(\"Mean Absolute Error:\" , mean_absolute_error(y_pred, y_test))\n",
    "\n",
    "print(\"Mean Squared Error:\" , mean_squared_error(y_pred, y_test))\n",
    "\n",
    "print('RMSE(Root Mean Squared Error):', np.sqrt(mean_squared_error(y_test, y_pred)))\n",
    "\n",
    "print('The r2_score is :',r2_score(y_test, y_pred))\n",
    "\n",
    "#sns.set(rc = {'figure.figsize':(10,7)})\n",
    "mlt.rcParams['figure.figsize'] = (10,7)\n",
    "sns.displot(y_test-y_pred, kde = True, color = 'orange');\n",
    "plt.show()\n",
    "plt.scatter(y_test, y_pred, alpha = 0.5 , color = 'orange')\n",
    "plt.xlabel(\"y_test\");\n",
    "plt.ylabel(\"y_pred\");"
   ]
  },
  {
   "cell_type": "markdown",
   "id": "dc3c89cb",
   "metadata": {},
   "source": [
    "### Feature Scaling"
   ]
  },
  {
   "cell_type": "code",
   "execution_count": 13,
   "id": "119a4308",
   "metadata": {},
   "outputs": [],
   "source": [
    "scaler = preprocessing.StandardScaler()\n",
    "\n",
    "X_scaler = scaler.fit_transform(X_train)\n",
    "X_scaler_test = scaler.transform(X_test)"
   ]
  },
  {
   "cell_type": "markdown",
   "id": "df29dc72",
   "metadata": {},
   "source": [
    "## Linear Regression"
   ]
  },
  {
   "cell_type": "code",
   "execution_count": 14,
   "id": "b234d55b",
   "metadata": {},
   "outputs": [
    {
     "name": "stdout",
     "output_type": "stream",
     "text": [
      "Linear Regression Score on Training data is 0.43659990111221747\n",
      "Linear Regression Score on Test data is 0.44166714605093405\n",
      "[0.46583604 0.42078185 0.44886286 0.46193897 0.38867646]\n",
      "Accuracy: 43.72 %\n",
      "Standard Deviation: 2.90 %\n",
      "Mean Absolute Error: 2429.6065183412675\n",
      "Mean Squared Error: 11939127.694656016\n",
      "RMSE(Root Mean Squared Error): 3455.304283946063\n",
      "The r2_score is : 0.44166714605093405\n"
     ]
    }
   ],
   "source": [
    "model =LinearRegression()\n",
    "model.fit(X_scaler, y_train)\n",
    "y_pred=model.predict(X_scaler_test)\n",
    "\n",
    "print(\"Linear Regression Score on Training data is\",model.score(X_scaler, y_train))#Training Accuracy\n",
    "print(\"Linear Regression Score on Test data is\",model.score(X_scaler_test, y_test))#Testing Accuracy\n",
    "\n",
    "accuracies = cross_val_score(model, X_scaler, y_train)\n",
    "print(accuracies)\n",
    "print(\"Accuracy: {:.2f} %\".format(accuracies.mean()*100))\n",
    "print(\"Standard Deviation: {:.2f} %\".format(accuracies.std()*100))\n",
    "\n",
    "print(\"Mean Absolute Error:\" , mean_absolute_error(y_pred, y_test))\n",
    "\n",
    "print(\"Mean Squared Error:\" , mean_squared_error(y_pred, y_test))\n",
    "\n",
    "print('RMSE(Root Mean Squared Error):', np.sqrt(mean_squared_error(y_test, y_pred)))\n",
    "\n",
    "print('The r2_score is :',r2_score(y_test, y_pred))"
   ]
  },
  {
   "cell_type": "markdown",
   "id": "ae5bda1e",
   "metadata": {},
   "source": [
    "## XG Boost Regressor"
   ]
  },
  {
   "cell_type": "code",
   "execution_count": 15,
   "id": "3fc6e38d",
   "metadata": {},
   "outputs": [
    {
     "name": "stderr",
     "output_type": "stream",
     "text": [
      "/opt/homebrew/Caskroom/miniforge/base/lib/python3.9/site-packages/xgboost/data.py:262: FutureWarning: pandas.Int64Index is deprecated and will be removed from pandas in a future version. Use pandas.Index with the appropriate dtype instead.\n",
      "  elif isinstance(data.columns, (pd.Int64Index, pd.RangeIndex)):\n"
     ]
    },
    {
     "name": "stdout",
     "output_type": "stream",
     "text": [
      "XG Boost Regressor Score on Training data is 0.9367417368542721\n",
      "XG Boost Regressor Score on Test data is 0.8232985806751316\n"
     ]
    },
    {
     "name": "stderr",
     "output_type": "stream",
     "text": [
      "/opt/homebrew/Caskroom/miniforge/base/lib/python3.9/site-packages/xgboost/data.py:262: FutureWarning: pandas.Int64Index is deprecated and will be removed from pandas in a future version. Use pandas.Index with the appropriate dtype instead.\n",
      "  elif isinstance(data.columns, (pd.Int64Index, pd.RangeIndex)):\n",
      "/opt/homebrew/Caskroom/miniforge/base/lib/python3.9/site-packages/xgboost/data.py:262: FutureWarning: pandas.Int64Index is deprecated and will be removed from pandas in a future version. Use pandas.Index with the appropriate dtype instead.\n",
      "  elif isinstance(data.columns, (pd.Int64Index, pd.RangeIndex)):\n",
      "/opt/homebrew/Caskroom/miniforge/base/lib/python3.9/site-packages/xgboost/data.py:262: FutureWarning: pandas.Int64Index is deprecated and will be removed from pandas in a future version. Use pandas.Index with the appropriate dtype instead.\n",
      "  elif isinstance(data.columns, (pd.Int64Index, pd.RangeIndex)):\n",
      "/opt/homebrew/Caskroom/miniforge/base/lib/python3.9/site-packages/xgboost/data.py:262: FutureWarning: pandas.Int64Index is deprecated and will be removed from pandas in a future version. Use pandas.Index with the appropriate dtype instead.\n",
      "  elif isinstance(data.columns, (pd.Int64Index, pd.RangeIndex)):\n",
      "/opt/homebrew/Caskroom/miniforge/base/lib/python3.9/site-packages/xgboost/data.py:262: FutureWarning: pandas.Int64Index is deprecated and will be removed from pandas in a future version. Use pandas.Index with the appropriate dtype instead.\n",
      "  elif isinstance(data.columns, (pd.Int64Index, pd.RangeIndex)):\n",
      "/opt/homebrew/Caskroom/miniforge/base/lib/python3.9/site-packages/xgboost/data.py:262: FutureWarning: pandas.Int64Index is deprecated and will be removed from pandas in a future version. Use pandas.Index with the appropriate dtype instead.\n",
      "  elif isinstance(data.columns, (pd.Int64Index, pd.RangeIndex)):\n"
     ]
    },
    {
     "name": "stdout",
     "output_type": "stream",
     "text": [
      "[0.81179717 0.82779886 0.81704279 0.84353415 0.81447056]\n",
      "Accuracy: 82.29 %\n",
      "Standard Deviation: 1.16 %\n",
      "Mean Absolute Error: 1166.3784201965188\n",
      "Mean Squared Error: 3778500.21582111\n",
      "RMSE(Root Mean Squared Error): 1943.8364683843931\n",
      "The r2_score is : 0.8232985806751316\n"
     ]
    },
    {
     "data": {
      "image/png": "[encoded data removed]",
      "text/plain": [
       "<Figure size 360x360 with 1 Axes>"
      ]
     },
     "metadata": {
      "needs_background": "light"
     },
     "output_type": "display_data"
    },
    {
     "data": {
      "image/png": "[encoded data removed]",
      "text/plain": [
       "<Figure size 720x504 with 1 Axes>"
      ]
     },
     "metadata": {
      "needs_background": "light"
     },
     "output_type": "display_data"
    }
   ],
   "source": [
    "model = XGBRegressor()\n",
    "model.fit(X_train, y_train)\n",
    "y_pred=model.predict(X_test)\n",
    "\n",
    "print(\"XG Boost Regressor Score on Training data is\",model.score(X_train, y_train))#Training Accuracy\n",
    "print(\"XG Boost Regressor Score on Test data is\",model.score(X_test, y_test))#Testing Accuracy\n",
    "\n",
    "accuracies = cross_val_score(model, X_train, y_train)\n",
    "print(accuracies)\n",
    "print(\"Accuracy: {:.2f} %\".format(accuracies.mean()*100))\n",
    "print(\"Standard Deviation: {:.2f} %\".format(accuracies.std()*100))\n",
    "\n",
    "print(\"Mean Absolute Error:\" , mean_absolute_error(y_pred, y_test))\n",
    "\n",
    "print(\"Mean Squared Error:\" , mean_squared_error(y_pred, y_test))\n",
    "\n",
    "print('RMSE(Root Mean Squared Error):', np.sqrt(mean_squared_error(y_test, y_pred)))\n",
    "\n",
    "print('The r2_score is :',r2_score(y_test, y_pred))\n",
    "\n",
    "#sns.set(rc = {'figure.figsize':(10,7)})\n",
    "mlt.rcParams['figure.figsize'] = (10,7)\n",
    "sns.displot(y_test-y_pred, kde = True, color = 'orange');\n",
    "plt.show()\n",
    "plt.scatter(y_test, y_pred, alpha = 0.5 , color = 'orange')\n",
    "plt.xlabel(\"y_test\");\n",
    "plt.ylabel(\"y_pred\");"
   ]
  },
  {
   "cell_type": "markdown",
   "id": "10277e36",
   "metadata": {},
   "source": [
    "## Model Selection"
   ]
  },
  {
   "cell_type": "markdown",
   "id": "7cb0ff33",
   "metadata": {},
   "source": [
    "#### We can observe that XG Boost Regressor yeilds the highest accuracy. So we will choose XG Boost Regressor as our final model."
   ]
  },
  {
   "cell_type": "markdown",
   "id": "13a6e0f6",
   "metadata": {},
   "source": [
    "# Saving the model"
   ]
  },
  {
   "cell_type": "code",
   "execution_count": 21,
   "id": "c67b04f7",
   "metadata": {},
   "outputs": [],
   "source": [
    "import pickle\n",
    "file = open('flight_prediction.pkl','wb')\n",
    "\n",
    "pickle.dump(model,file)\n",
    "file.flush()"
   ]
  },
  {
   "cell_type": "code",
   "execution_count": 22,
   "id": "bf2865fe",
   "metadata": {},
   "outputs": [],
   "source": [
    "xgb = pickle.load(open('flight_prediction.pkl','rb'))"
   ]
  },
  {
   "cell_type": "code",
   "execution_count": 23,
   "id": "478d0971",
   "metadata": {},
   "outputs": [
    {
     "name": "stderr",
     "output_type": "stream",
     "text": [
      "/opt/homebrew/Caskroom/miniforge/base/lib/python3.9/site-packages/xgboost/data.py:262: FutureWarning: pandas.Int64Index is deprecated and will be removed from pandas in a future version. Use pandas.Index with the appropriate dtype instead.\n",
      "  elif isinstance(data.columns, (pd.Int64Index, pd.RangeIndex)):\n"
     ]
    }
   ],
   "source": [
    "y_predict = xgb.predict(X_test)"
   ]
  },
  {
   "cell_type": "code",
   "execution_count": 24,
   "id": "6b4bbb6e",
   "metadata": {},
   "outputs": [
    {
     "data": {
      "text/plain": [
       "0.8232985806751316"
      ]
     },
     "execution_count": 24,
     "metadata": {},
     "output_type": "execute_result"
    }
   ],
   "source": [
    "r2_score(y_test, y_predict)"
   ]
  },
  {
   "cell_type": "code",
   "execution_count": null,
   "id": "8dd2ef0a",
   "metadata": {},
   "outputs": [],
   "source": []
  }
 ],
 "metadata": {
  "kernelspec": {
   "display_name": "Python 3 (ipykernel)",
   "language": "python",
   "name": "python3"
  },
  "language_info": {
   "codemirror_mode": {
    "name": "ipython",
    "version": 3
   },
   "file_extension": ".py",
   "mimetype": "text/x-python",
   "name": "python",
   "nbconvert_exporter": "python",
   "pygments_lexer": "ipython3",
   "version": "3.9.7"
  }
 },
 "nbformat": 4,
 "nbformat_minor": 5
}
